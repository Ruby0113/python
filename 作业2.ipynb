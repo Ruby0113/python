{
 "cells": [
  {
   "cell_type": "code",
   "execution_count": 12,
   "id": "a2e84386",
   "metadata": {
    "scrolled": true
   },
   "outputs": [
    {
     "name": "stdout",
     "output_type": "stream",
     "text": [
      "('fruits', 'vegetables')\n"
     ]
    }
   ],
   "source": [
    "my_tuple=(\"fruits\",\"vegetables\")\n",
    "print(my_tuple)"
   ]
  },
  {
   "cell_type": "code",
   "execution_count": 4,
   "id": "c45d6cb6",
   "metadata": {},
   "outputs": [
    {
     "name": "stdout",
     "output_type": "stream",
     "text": [
      "('fruits', 'vegetables', 'cabbage')\n"
     ]
    }
   ],
   "source": [
    "fruits=\"cabbage\",\n",
    "fruits_vegetables=(my_tuple+fruits)\n",
    "print(fruits_vegetables)"
   ]
  },
  {
   "cell_type": "code",
   "execution_count": 6,
   "id": "31507468",
   "metadata": {
    "scrolled": false
   },
   "outputs": [
    {
     "name": "stdout",
     "output_type": "stream",
     "text": [
      "蔬菜种类有 3 种\n"
     ]
    }
   ],
   "source": [
    "a = len(fruits_vegetables)\n",
    "print(\"蔬菜种类有\",a,\"种\")"
   ]
  },
  {
   "cell_type": "code",
   "execution_count": 7,
   "id": "d1afcd15",
   "metadata": {},
   "outputs": [
    {
     "name": "stdout",
     "output_type": "stream",
     "text": [
      "('fruits', 'vegetables', 'cabbage', 'mushroom', 'cola')\n"
     ]
    }
   ],
   "source": [
    "b=(\"mushroom\",\"cola\")\n",
    "food_tuple=(fruits_vegetables+b)\n",
    "print(food_tuple)"
   ]
  },
  {
   "cell_type": "code",
   "execution_count": 9,
   "id": "eabcee9b",
   "metadata": {},
   "outputs": [
    {
     "name": "stdout",
     "output_type": "stream",
     "text": [
      "['fruits', 'vegetables', 'cabbage', 'mushroom', 'cola']\n"
     ]
    }
   ],
   "source": [
    "food_tuple = list(food_tuple)\n",
    "print(food_tuple)"
   ]
  },
  {
   "cell_type": "code",
   "execution_count": 13,
   "id": "f9fda78f",
   "metadata": {},
   "outputs": [
    {
     "name": "stdout",
     "output_type": "stream",
     "text": [
      "['vegetables', 'cabbage']\n",
      "['fruits', 'vegetables', 'cabbage']\n",
      "['cabbage', 'mushroom', 'cola']\n"
     ]
    }
   ],
   "source": [
    "print(food_tuple[1:3])\n",
    "print(food_tuple[0:3])\n",
    "print(food_tuple[2:5])"
   ]
  },
  {
   "cell_type": "code",
   "execution_count": 14,
   "id": "284a9dd5",
   "metadata": {},
   "outputs": [
    {
     "ename": "NameError",
     "evalue": "name 'food_tuple' is not defined",
     "output_type": "error",
     "traceback": [
      "\u001b[1;31m---------------------------------------------------------------------------\u001b[0m",
      "\u001b[1;31mNameError\u001b[0m                                 Traceback (most recent call last)",
      "\u001b[1;32m<ipython-input-14-2a56d3f7eb2c>\u001b[0m in \u001b[0;36m<module>\u001b[1;34m\u001b[0m\n\u001b[0;32m      1\u001b[0m \u001b[1;32mdel\u001b[0m \u001b[0mfood_tuple\u001b[0m\u001b[1;33m\u001b[0m\u001b[1;33m\u001b[0m\u001b[0m\n\u001b[1;32m----> 2\u001b[1;33m \u001b[0mprint\u001b[0m\u001b[1;33m(\u001b[0m\u001b[0mfood_tuple\u001b[0m\u001b[1;33m)\u001b[0m\u001b[1;33m\u001b[0m\u001b[1;33m\u001b[0m\u001b[0m\n\u001b[0m",
      "\u001b[1;31mNameError\u001b[0m: name 'food_tuple' is not defined"
     ]
    }
   ],
   "source": [
    "del food_tuple\n",
    "print(food_tuple)"
   ]
  },
  {
   "cell_type": "code",
   "execution_count": 15,
   "id": "703b0861",
   "metadata": {},
   "outputs": [
    {
     "name": "stdout",
     "output_type": "stream",
     "text": [
      "False\n",
      "True\n"
     ]
    }
   ],
   "source": [
    "asian_countries = ('India','China','Singapore','Thailand','Indonesia')\n",
    "print('Finland' in asian_countries)\n",
    "print( 'India' in asian_countries)"
   ]
  }
 ],
 "metadata": {
  "kernelspec": {
   "display_name": "Python 3",
   "language": "python",
   "name": "python3"
  },
  "language_info": {
   "codemirror_mode": {
    "name": "ipython",
    "version": 3
   },
   "file_extension": ".py",
   "mimetype": "text/x-python",
   "name": "python",
   "nbconvert_exporter": "python",
   "pygments_lexer": "ipython3",
   "version": "3.8.8"
  }
 },
 "nbformat": 4,
 "nbformat_minor": 5
}
