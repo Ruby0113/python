{
 "cells": [
  {
   "cell_type": "code",
   "execution_count": 1,
   "id": "abe82c35",
   "metadata": {},
   "outputs": [
    {
     "name": "stdout",
     "output_type": "stream",
     "text": [
      "24\n"
     ]
    }
   ],
   "source": [
    "age = 24\n",
    "my_age = int(age)\n",
    "print(my_age)"
   ]
  },
  {
   "cell_type": "code",
   "execution_count": 2,
   "id": "2b12c922",
   "metadata": {},
   "outputs": [
    {
     "name": "stdout",
     "output_type": "stream",
     "text": [
      "1.62\n"
     ]
    }
   ],
   "source": [
    "height = 1.62\n",
    "my_height = float(height)\n",
    "print(my_height)"
   ]
  },
  {
   "cell_type": "code",
   "execution_count": 3,
   "id": "334ebbaf",
   "metadata": {},
   "outputs": [
    {
     "name": "stdout",
     "output_type": "stream",
     "text": [
      "<class 'complex'>\n"
     ]
    }
   ],
   "source": [
    "complexNum = 4+3j\n",
    "print(type(complexNum))"
   ]
  },
  {
   "cell_type": "code",
   "execution_count": 4,
   "id": "210bf4c0",
   "metadata": {},
   "outputs": [
    {
     "name": "stdout",
     "output_type": "stream",
     "text": [
      "enter base:20\n",
      "enter height:10\n",
      "100\n"
     ]
    }
   ],
   "source": [
    "base =int(input(\"enter base:\"))\n",
    "height = int(input(\"enter height:\"))\n",
    "area = 0.5*base*height\n",
    "print(int(area))"
   ]
  },
  {
   "cell_type": "code",
   "execution_count": 5,
   "id": "df520ed4",
   "metadata": {},
   "outputs": [
    {
     "name": "stdout",
     "output_type": "stream",
     "text": [
      "enter side_a:5\n",
      "enter side_b:4\n",
      "enter side_c:3\n",
      "12\n"
     ]
    }
   ],
   "source": [
    "side_a =int(input(\"enter side_a:\"))\n",
    "side_b = int(input(\"enter side_b:\"))\n",
    "side_c = int(input(\"enter side_c:\"))\n",
    "perimeter = side_a+side_b+side_c\n",
    "print(int(perimeter))"
   ]
  },
  {
   "cell_type": "code",
   "execution_count": 6,
   "id": "83144fab",
   "metadata": {},
   "outputs": [
    {
     "name": "stdout",
     "output_type": "stream",
     "text": [
      "enter length：5\n",
      "enter width：10\n",
      "50\n",
      "30\n"
     ]
    }
   ],
   "source": [
    "length=int(input(\"enter length：\"))\n",
    "width=int(input(\"enter width：\"))\n",
    "area = length*width\n",
    "print(int(area))\n",
    "perimeter=2*(length+width)\n",
    "print(int(perimeter))"
   ]
  },
  {
   "cell_type": "code",
   "execution_count": 7,
   "id": "fd6f2af0",
   "metadata": {},
   "outputs": [
    {
     "name": "stdout",
     "output_type": "stream",
     "text": [
      "enter radius: 10\n",
      "314\n",
      "62\n"
     ]
    }
   ],
   "source": [
    "radius = int(input(\"enter radius: \"))\n",
    "area = 3.14*radius*radius\n",
    "print(int(area))\n",
    "circumference = 2*3.14*radius\n",
    "print(int(circumference))"
   ]
  },
  {
   "cell_type": "code",
   "execution_count": 8,
   "id": "4905240b",
   "metadata": {},
   "outputs": [
    {
     "name": "stdout",
     "output_type": "stream",
     "text": [
      "8\n"
     ]
    }
   ],
   "source": [
    "import numpy as np\n",
    "import math\n",
    "p1=np.array([2,2])\n",
    "p2=np.array([6,10])\n",
    "p3=p2-p1\n",
    "p4=math.hypot(p3[0],p3[1])\n",
    "print(int(p4))"
   ]
  },
  {
   "cell_type": "code",
   "execution_count": 9,
   "id": "de912633",
   "metadata": {},
   "outputs": [
    {
     "name": "stdout",
     "output_type": "stream",
     "text": [
      "2\n"
     ]
    }
   ],
   "source": [
    "p1 = [2, 2]\n",
    "p2 = [6, 10] \n",
    "slope = abs((p1[1] - p2[1]) / (p1[0] - p2[0] + 1e-5)) \n",
    "print(int(slope))"
   ]
  },
  {
   "cell_type": "code",
   "execution_count": 10,
   "id": "06d6c46f",
   "metadata": {
    "scrolled": true
   },
   "outputs": [
    {
     "name": "stdout",
     "output_type": "stream",
     "text": [
      "8\n"
     ]
    }
   ],
   "source": [
    "a=max(p4,slope)\n",
    "print(int(a))"
   ]
  },
  {
   "cell_type": "code",
   "execution_count": 11,
   "id": "338e1ea0",
   "metadata": {},
   "outputs": [
    {
     "name": "stdout",
     "output_type": "stream",
     "text": [
      "[-3]\n"
     ]
    }
   ],
   "source": [
    "from sympy import *\n",
    "x = symbols('x')\n",
    "print(solve(6*x+x*x+9,x))"
   ]
  },
  {
   "cell_type": "code",
   "execution_count": 12,
   "id": "9194c1ba",
   "metadata": {},
   "outputs": [
    {
     "data": {
      "text/plain": [
       "6"
      ]
     },
     "execution_count": 12,
     "metadata": {},
     "output_type": "execute_result"
    }
   ],
   "source": [
    "len(str('python'))"
   ]
  },
  {
   "cell_type": "code",
   "execution_count": 13,
   "id": "05282192",
   "metadata": {},
   "outputs": [
    {
     "data": {
      "text/plain": [
       "11"
      ]
     },
     "execution_count": 13,
     "metadata": {},
     "output_type": "execute_result"
    }
   ],
   "source": [
    "len(str('datascience'))"
   ]
  },
  {
   "cell_type": "code",
   "execution_count": 14,
   "id": "03db0729",
   "metadata": {},
   "outputs": [
    {
     "data": {
      "text/plain": [
       "False"
      ]
     },
     "execution_count": 14,
     "metadata": {},
     "output_type": "execute_result"
    }
   ],
   "source": [
    "len(str('python'))>len(str('datascience'))"
   ]
  },
  {
   "cell_type": "code",
   "execution_count": 15,
   "id": "c614ce88",
   "metadata": {},
   "outputs": [
    {
     "name": "stdout",
     "output_type": "stream",
     "text": [
      "True\n"
     ]
    }
   ],
   "source": [
    "x='python'\n",
    "y='cannon'\n",
    "print(('on' in x)and('on' in y) )"
   ]
  },
  {
   "cell_type": "code",
   "execution_count": 16,
   "id": "7dc92b38",
   "metadata": {},
   "outputs": [
    {
     "name": "stdout",
     "output_type": "stream",
     "text": [
      "True\n"
     ]
    }
   ],
   "source": [
    "a = 'I hope this course is not full of jargon.'\n",
    "print('jargon' in a)"
   ]
  },
  {
   "cell_type": "code",
   "execution_count": 17,
   "id": "48bfe5ba",
   "metadata": {},
   "outputs": [
    {
     "name": "stdout",
     "output_type": "stream",
     "text": [
      "False\n"
     ]
    }
   ],
   "source": [
    "x='python'\n",
    "y='cannon'\n",
    "print(('on' not in x)and('on'not in y) )"
   ]
  },
  {
   "cell_type": "code",
   "execution_count": 18,
   "id": "a6dd0fb8",
   "metadata": {},
   "outputs": [
    {
     "name": "stdout",
     "output_type": "stream",
     "text": [
      "6.0\n",
      "6\n"
     ]
    }
   ],
   "source": [
    "print(float(len('python')))\n",
    "print(str(len('python')))"
   ]
  },
  {
   "cell_type": "code",
   "execution_count": 19,
   "id": "a5d9bea9",
   "metadata": {},
   "outputs": [
    {
     "name": "stdout",
     "output_type": "stream",
     "text": [
      "?:2\n",
      "even\n"
     ]
    }
   ],
   "source": [
    "num =int( input('?:'))\n",
    "if num % 2 == 0:\n",
    "    print('even')\n",
    "\n",
    "else:\n",
    "     print('odd')\n",
    "\n"
   ]
  },
  {
   "cell_type": "code",
   "execution_count": 20,
   "id": "7a87c8ce",
   "metadata": {},
   "outputs": [
    {
     "data": {
      "text/plain": [
       "False"
      ]
     },
     "execution_count": 20,
     "metadata": {},
     "output_type": "execute_result"
    }
   ],
   "source": [
    "7/3 ==2.7"
   ]
  },
  {
   "cell_type": "code",
   "execution_count": 21,
   "id": "834f8dec",
   "metadata": {},
   "outputs": [
    {
     "data": {
      "text/plain": [
       "False"
      ]
     },
     "execution_count": 21,
     "metadata": {},
     "output_type": "execute_result"
    }
   ],
   "source": [
    "type('10') == type(10)"
   ]
  },
  {
   "cell_type": "code",
   "execution_count": 22,
   "id": "0545207f",
   "metadata": {},
   "outputs": [
    {
     "data": {
      "text/plain": [
       "False"
      ]
     },
     "execution_count": 22,
     "metadata": {},
     "output_type": "execute_result"
    }
   ],
   "source": [
    "int(float(\"9.6\"))==10"
   ]
  },
  {
   "cell_type": "code",
   "execution_count": 23,
   "id": "a639d8d6",
   "metadata": {
    "scrolled": true
   },
   "outputs": [
    {
     "name": "stdout",
     "output_type": "stream",
     "text": [
      "enter hours:40\n",
      "enter rate per hour:30\n",
      "your weekly earning is: 1200\n"
     ]
    }
   ],
   "source": [
    "a=int(input(\"enter hours:\"))\n",
    "b=int(input(\"enter rate per hour:\"))\n",
    "earning = a*b\n",
    "print(\"your weekly earning is:\",earning)"
   ]
  },
  {
   "cell_type": "code",
   "execution_count": 24,
   "id": "a934166e",
   "metadata": {},
   "outputs": [
    {
     "name": "stdout",
     "output_type": "stream",
     "text": [
      "enter number of years you have lived:100\n",
      "you have lived for 3153600000 seconds.\n"
     ]
    }
   ],
   "source": [
    "n=int(input(\"enter number of years you have lived:\"))\n",
    "seconds=n*365*24*60*60\n",
    "print(\"you have lived for\",seconds,\"seconds.\")"
   ]
  },
  {
   "cell_type": "code",
   "execution_count": 28,
   "id": "b15a9d9a",
   "metadata": {
    "scrolled": true
   },
   "outputs": [
    {
     "name": "stdout",
     "output_type": "stream",
     "text": [
      "                    \n",
      "1   2   3    4     5\n",
      "2   4   6    8    10\n",
      "3   6   9   12    15\n",
      "4   8  12   16    20\n",
      "5  10  15   20    25\n"
     ]
    }
   ],
   "source": [
    "import pandas as pd\n",
    "row1=pd.Series([2,4,6,8,10],index=[1,2,3,4,5])\n",
    "row2=pd.Series([3,6,9,12,15],index=[1,2,3,4,5])\n",
    "row3=pd.Series([4,8,12,16,20],index=[1,2,3,4,5])\n",
    "row4=pd.Series([5,10,15,20,25],index=[1,2,3,4,5])\n",
    "data=pd.DataFrame({\" \":row1,\"  \":row2,\"   \":row3,\"    \":row4})\n",
    "print(data)"
   ]
  }
 ],
 "metadata": {
  "kernelspec": {
   "display_name": "Python 3",
   "language": "python",
   "name": "python3"
  },
  "language_info": {
   "codemirror_mode": {
    "name": "ipython",
    "version": 3
   },
   "file_extension": ".py",
   "mimetype": "text/x-python",
   "name": "python",
   "nbconvert_exporter": "python",
   "pygments_lexer": "ipython3",
   "version": "3.8.8"
  },
  "toc": {
   "base_numbering": 1,
   "nav_menu": {},
   "number_sections": true,
   "sideBar": true,
   "skip_h1_title": false,
   "title_cell": "Table of Contents",
   "title_sidebar": "Contents",
   "toc_cell": false,
   "toc_position": {},
   "toc_section_display": true,
   "toc_window_display": false
  }
 },
 "nbformat": 4,
 "nbformat_minor": 5
}
